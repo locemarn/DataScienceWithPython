{
  "nbformat": 4,
  "nbformat_minor": 0,
  "metadata": {
    "kernelspec": {
      "language": "python",
      "display_name": "Python 3",
      "name": "python3"
    },
    "language_info": {
      "name": "python",
      "version": "3.7.10",
      "mimetype": "text/x-python",
      "codemirror_mode": {
        "name": "ipython",
        "version": 3
      },
      "pygments_lexer": "ipython3",
      "nbconvert_exporter": "python",
      "file_extension": ".py"
    },
    "colab": {
      "name": "classificacao-aluno-marcelo_nogueira_203214.ipynb",
      "provenance": [],
      "collapsed_sections": [],
      "include_colab_link": true
    }
  },
  "cells": [
    {
      "cell_type": "markdown",
      "metadata": {
        "id": "view-in-github",
        "colab_type": "text"
      },
      "source": [
        "<a href=\"https://colab.research.google.com/github/locemarn/DataScienceWithPython/blob/main/classificacao_aluno_marcelo_nogueira_203214.ipynb\" target=\"_parent\"><img src=\"https://colab.research.google.com/assets/colab-badge.svg\" alt=\"Open In Colab\"/></a>"
      ]
    },
    {
      "cell_type": "markdown",
      "metadata": {
        "id": "hXmFzkfOPLhf"
      },
      "source": [
        "<h1><center>Análise de Crédito (Give me some credit!)</center></h1>"
      ]
    },
    {
      "cell_type": "markdown",
      "metadata": {
        "id": "CCxtQt0aPLhj"
      },
      "source": [
        "Neste exercício vamos construir um classificador para prever inadimplência de tomadores de empréstimo. O problema foi apresentado na plataforma Kaggle (https://www.kaggle.com/c/GiveMeSomeCredit), com o prêmio de 5000 USD para o ganhador. Os atributos disponíveis nos dados são descritos abaixo:\n",
        "\n",
        "<img src=\"DescricaoAtributos.png\">\n",
        "\n",
        "Segundo as regras, a avaliação do modelo deve ser feita pela métrica AUC, sendo que melhor resultado obtido pelos participantes nos testes foi 0.8695:\n",
        "\n",
        "<img src=\"Kaggle_Ranking.png\">\n",
        "\n",
        "Para facilitar, primeiro implementamos cada uma das etapas da Extração de Conhecimento em rotinas separadas, em seguida essas são chamadas abaixo no programa principal."
      ]
    },
    {
      "cell_type": "markdown",
      "metadata": {
        "id": "xnErVNmLPLhk"
      },
      "source": [
        "## 0. Importação de módulos"
      ]
    },
    {
      "cell_type": "code",
      "metadata": {
        "execution": {
          "iopub.status.busy": "2021-06-30T23:30:19.421823Z",
          "iopub.execute_input": "2021-06-30T23:30:19.422163Z",
          "iopub.status.idle": "2021-06-30T23:30:19.908936Z",
          "shell.execute_reply.started": "2021-06-30T23:30:19.422131Z",
          "shell.execute_reply": "2021-06-30T23:30:19.907734Z"
        },
        "trusted": true,
        "id": "I5a0MHVgPLhl",
        "colab": {
          "base_uri": "https://localhost:8080/"
        },
        "outputId": "4e6725ab-2518-43f6-9523-1ec4ac5715a5"
      },
      "source": [
        "!pip install scikit-plot\n",
        "\n",
        "import pandas as pd\n",
        "# import scikitplot as skplt\n",
        "import seaborn as sns\n",
        "import matplotlib.pyplot as plt\n",
        "import warnings\n",
        "from imblearn.combine import SMOTETomek\n",
        "from sklearn.model_selection import train_test_split\n",
        "from sklearn.metrics import classification_report\n",
        "from sklearn.preprocessing import StandardScaler\n",
        "\n",
        "from sklearn.linear_model import LogisticRegression\n",
        "from sklearn.tree import DecisionTreeClassifier\n",
        "from sklearn.ensemble import RandomForestClassifier, VotingClassifier\n",
        "from sklearn.naive_bayes import GaussianNB\n",
        "from sklearn.neighbors import KNeighborsClassifier\n",
        "\n",
        "from sklearn.model_selection import cross_val_score\n",
        "from sklearn.model_selection import cross_val_predict\n",
        "from sklearn.metrics import confusion_matrix\n",
        "from sklearn.pipeline import make_pipeline\n",
        "from sklearn.metrics import precision_recall_curve\n",
        "\n",
        "warnings.filterwarnings('ignore')"
      ],
      "execution_count": 132,
      "outputs": [
        {
          "output_type": "stream",
          "text": [
            "Requirement already satisfied: scikit-plot in /usr/local/lib/python3.7/dist-packages (0.3.7)\n",
            "Requirement already satisfied: matplotlib>=1.4.0 in /usr/local/lib/python3.7/dist-packages (from scikit-plot) (3.2.2)\n",
            "Requirement already satisfied: joblib>=0.10 in /usr/local/lib/python3.7/dist-packages (from scikit-plot) (1.0.1)\n",
            "Requirement already satisfied: scikit-learn>=0.18 in /usr/local/lib/python3.7/dist-packages (from scikit-plot) (0.22.2.post1)\n",
            "Requirement already satisfied: scipy>=0.9 in /usr/local/lib/python3.7/dist-packages (from scikit-plot) (1.4.1)\n",
            "Requirement already satisfied: pyparsing!=2.0.4,!=2.1.2,!=2.1.6,>=2.0.1 in /usr/local/lib/python3.7/dist-packages (from matplotlib>=1.4.0->scikit-plot) (2.4.7)\n",
            "Requirement already satisfied: kiwisolver>=1.0.1 in /usr/local/lib/python3.7/dist-packages (from matplotlib>=1.4.0->scikit-plot) (1.3.1)\n",
            "Requirement already satisfied: numpy>=1.11 in /usr/local/lib/python3.7/dist-packages (from matplotlib>=1.4.0->scikit-plot) (1.19.5)\n",
            "Requirement already satisfied: python-dateutil>=2.1 in /usr/local/lib/python3.7/dist-packages (from matplotlib>=1.4.0->scikit-plot) (2.8.1)\n",
            "Requirement already satisfied: cycler>=0.10 in /usr/local/lib/python3.7/dist-packages (from matplotlib>=1.4.0->scikit-plot) (0.10.0)\n",
            "Requirement already satisfied: six>=1.5 in /usr/local/lib/python3.7/dist-packages (from python-dateutil>=2.1->matplotlib>=1.4.0->scikit-plot) (1.15.0)\n"
          ],
          "name": "stdout"
        }
      ]
    },
    {
      "cell_type": "markdown",
      "metadata": {
        "id": "VhMi9S2IPLho"
      },
      "source": [
        "## 1.1. Carga de dados"
      ]
    },
    {
      "cell_type": "code",
      "metadata": {
        "execution": {
          "iopub.status.busy": "2021-06-30T23:30:19.910951Z",
          "iopub.execute_input": "2021-06-30T23:30:19.911415Z",
          "iopub.status.idle": "2021-06-30T23:30:19.917430Z",
          "shell.execute_reply.started": "2021-06-30T23:30:19.911372Z",
          "shell.execute_reply": "2021-06-30T23:30:19.916161Z"
        },
        "trusted": true,
        "id": "8O3xIXfOPLhp"
      },
      "source": [
        "# Para este problema temos dois arquivos: treino e tete. O arquivo de teste, no entanto, não está rotulado, \n",
        "# logo trabalharemos apenas com os dados de treino\n",
        "def carrega_treino():\n",
        "    url = \"https://raw.githubusercontent.com/brvnl/AplicacoesAprendizadoMaquina/main/cs-training.csv\"\n",
        "    df = pd.read_csv(url)\n",
        "    df.drop(columns=\"Unnamed: 0\", inplace=True)\n",
        "    return df"
      ],
      "execution_count": 133,
      "outputs": []
    },
    {
      "cell_type": "code",
      "metadata": {
        "execution": {
          "iopub.status.busy": "2021-06-30T23:30:19.920197Z",
          "iopub.execute_input": "2021-06-30T23:30:19.920607Z",
          "iopub.status.idle": "2021-06-30T23:30:20.822863Z",
          "shell.execute_reply.started": "2021-06-30T23:30:19.920567Z",
          "shell.execute_reply": "2021-06-30T23:30:20.821446Z"
        },
        "trusted": true,
        "id": "G8HtTAxZPLhp",
        "colab": {
          "base_uri": "https://localhost:8080/",
          "height": 359
        },
        "outputId": "44954dd9-662f-4465-a378-90256192bcf9"
      },
      "source": [
        "dts = carrega_treino()\n",
        "\n",
        "dts.head(10)"
      ],
      "execution_count": 134,
      "outputs": [
        {
          "output_type": "execute_result",
          "data": {
            "text/html": [
              "<div>\n",
              "<style scoped>\n",
              "    .dataframe tbody tr th:only-of-type {\n",
              "        vertical-align: middle;\n",
              "    }\n",
              "\n",
              "    .dataframe tbody tr th {\n",
              "        vertical-align: top;\n",
              "    }\n",
              "\n",
              "    .dataframe thead th {\n",
              "        text-align: right;\n",
              "    }\n",
              "</style>\n",
              "<table border=\"1\" class=\"dataframe\">\n",
              "  <thead>\n",
              "    <tr style=\"text-align: right;\">\n",
              "      <th></th>\n",
              "      <th>SeriousDlqin2yrs</th>\n",
              "      <th>RevolvingUtilizationOfUnsecuredLines</th>\n",
              "      <th>age</th>\n",
              "      <th>NumberOfTime30-59DaysPastDueNotWorse</th>\n",
              "      <th>DebtRatio</th>\n",
              "      <th>MonthlyIncome</th>\n",
              "      <th>NumberOfOpenCreditLinesAndLoans</th>\n",
              "      <th>NumberOfTimes90DaysLate</th>\n",
              "      <th>NumberRealEstateLoansOrLines</th>\n",
              "      <th>NumberOfTime60-89DaysPastDueNotWorse</th>\n",
              "      <th>NumberOfDependents</th>\n",
              "    </tr>\n",
              "  </thead>\n",
              "  <tbody>\n",
              "    <tr>\n",
              "      <th>0</th>\n",
              "      <td>1</td>\n",
              "      <td>0.766127</td>\n",
              "      <td>45</td>\n",
              "      <td>2</td>\n",
              "      <td>0.802982</td>\n",
              "      <td>9120.0</td>\n",
              "      <td>13</td>\n",
              "      <td>0</td>\n",
              "      <td>6</td>\n",
              "      <td>0</td>\n",
              "      <td>2.0</td>\n",
              "    </tr>\n",
              "    <tr>\n",
              "      <th>1</th>\n",
              "      <td>0</td>\n",
              "      <td>0.957151</td>\n",
              "      <td>40</td>\n",
              "      <td>0</td>\n",
              "      <td>0.121876</td>\n",
              "      <td>2600.0</td>\n",
              "      <td>4</td>\n",
              "      <td>0</td>\n",
              "      <td>0</td>\n",
              "      <td>0</td>\n",
              "      <td>1.0</td>\n",
              "    </tr>\n",
              "    <tr>\n",
              "      <th>2</th>\n",
              "      <td>0</td>\n",
              "      <td>0.658180</td>\n",
              "      <td>38</td>\n",
              "      <td>1</td>\n",
              "      <td>0.085113</td>\n",
              "      <td>3042.0</td>\n",
              "      <td>2</td>\n",
              "      <td>1</td>\n",
              "      <td>0</td>\n",
              "      <td>0</td>\n",
              "      <td>0.0</td>\n",
              "    </tr>\n",
              "    <tr>\n",
              "      <th>3</th>\n",
              "      <td>0</td>\n",
              "      <td>0.233810</td>\n",
              "      <td>30</td>\n",
              "      <td>0</td>\n",
              "      <td>0.036050</td>\n",
              "      <td>3300.0</td>\n",
              "      <td>5</td>\n",
              "      <td>0</td>\n",
              "      <td>0</td>\n",
              "      <td>0</td>\n",
              "      <td>0.0</td>\n",
              "    </tr>\n",
              "    <tr>\n",
              "      <th>4</th>\n",
              "      <td>0</td>\n",
              "      <td>0.907239</td>\n",
              "      <td>49</td>\n",
              "      <td>1</td>\n",
              "      <td>0.024926</td>\n",
              "      <td>63588.0</td>\n",
              "      <td>7</td>\n",
              "      <td>0</td>\n",
              "      <td>1</td>\n",
              "      <td>0</td>\n",
              "      <td>0.0</td>\n",
              "    </tr>\n",
              "    <tr>\n",
              "      <th>5</th>\n",
              "      <td>0</td>\n",
              "      <td>0.213179</td>\n",
              "      <td>74</td>\n",
              "      <td>0</td>\n",
              "      <td>0.375607</td>\n",
              "      <td>3500.0</td>\n",
              "      <td>3</td>\n",
              "      <td>0</td>\n",
              "      <td>1</td>\n",
              "      <td>0</td>\n",
              "      <td>1.0</td>\n",
              "    </tr>\n",
              "    <tr>\n",
              "      <th>6</th>\n",
              "      <td>0</td>\n",
              "      <td>0.305682</td>\n",
              "      <td>57</td>\n",
              "      <td>0</td>\n",
              "      <td>5710.000000</td>\n",
              "      <td>NaN</td>\n",
              "      <td>8</td>\n",
              "      <td>0</td>\n",
              "      <td>3</td>\n",
              "      <td>0</td>\n",
              "      <td>0.0</td>\n",
              "    </tr>\n",
              "    <tr>\n",
              "      <th>7</th>\n",
              "      <td>0</td>\n",
              "      <td>0.754464</td>\n",
              "      <td>39</td>\n",
              "      <td>0</td>\n",
              "      <td>0.209940</td>\n",
              "      <td>3500.0</td>\n",
              "      <td>8</td>\n",
              "      <td>0</td>\n",
              "      <td>0</td>\n",
              "      <td>0</td>\n",
              "      <td>0.0</td>\n",
              "    </tr>\n",
              "    <tr>\n",
              "      <th>8</th>\n",
              "      <td>0</td>\n",
              "      <td>0.116951</td>\n",
              "      <td>27</td>\n",
              "      <td>0</td>\n",
              "      <td>46.000000</td>\n",
              "      <td>NaN</td>\n",
              "      <td>2</td>\n",
              "      <td>0</td>\n",
              "      <td>0</td>\n",
              "      <td>0</td>\n",
              "      <td>NaN</td>\n",
              "    </tr>\n",
              "    <tr>\n",
              "      <th>9</th>\n",
              "      <td>0</td>\n",
              "      <td>0.189169</td>\n",
              "      <td>57</td>\n",
              "      <td>0</td>\n",
              "      <td>0.606291</td>\n",
              "      <td>23684.0</td>\n",
              "      <td>9</td>\n",
              "      <td>0</td>\n",
              "      <td>4</td>\n",
              "      <td>0</td>\n",
              "      <td>2.0</td>\n",
              "    </tr>\n",
              "  </tbody>\n",
              "</table>\n",
              "</div>"
            ],
            "text/plain": [
              "   SeriousDlqin2yrs  ...  NumberOfDependents\n",
              "0                 1  ...                 2.0\n",
              "1                 0  ...                 1.0\n",
              "2                 0  ...                 0.0\n",
              "3                 0  ...                 0.0\n",
              "4                 0  ...                 0.0\n",
              "5                 0  ...                 1.0\n",
              "6                 0  ...                 0.0\n",
              "7                 0  ...                 0.0\n",
              "8                 0  ...                 NaN\n",
              "9                 0  ...                 2.0\n",
              "\n",
              "[10 rows x 11 columns]"
            ]
          },
          "metadata": {
            "tags": []
          },
          "execution_count": 134
        }
      ]
    },
    {
      "cell_type": "markdown",
      "metadata": {
        "id": "Udefh3S7PLhs"
      },
      "source": [
        "## 1.2. Análise exploratória"
      ]
    },
    {
      "cell_type": "code",
      "metadata": {
        "execution": {
          "iopub.status.busy": "2021-06-30T23:30:20.824759Z",
          "iopub.execute_input": "2021-06-30T23:30:20.825223Z",
          "iopub.status.idle": "2021-06-30T23:30:20.835779Z",
          "shell.execute_reply.started": "2021-06-30T23:30:20.825180Z",
          "shell.execute_reply": "2021-06-30T23:30:20.834347Z"
        },
        "trusted": true,
        "id": "oHhdMgX0PLht"
      },
      "source": [
        "# Para atributos numéricos discretos, esta função conta a quantidade de registros por valor,\n",
        "# providenciando a distribuição para as duas classes.\n",
        "def countplot_comparisson(df):\n",
        "    int_attr = [\"age\", \n",
        "                \"NumberOfDependents\",\n",
        "                \"NumberOfOpenCreditLinesAndLoans\", \n",
        "                \"NumberRealEstateLoansOrLines\", \n",
        "                \"NumberOfTime30-59DaysPastDueNotWorse\", \n",
        "                \"NumberOfTime60-89DaysPastDueNotWorse\",\n",
        "                \"NumberOfTimes90DaysLate\"]\n",
        "    \n",
        "    for c in int_attr:\n",
        "        fig2, ax2 = plt.subplots(figsize=(20,8))\n",
        "        sns.countplot(x=c, hue=\"SeriousDlqin2yrs\", data=df).set_title(c)\n",
        "        \n",
        "    return\n",
        "\n",
        "# Para atributos numéricos contínuos esta função exibe a distribuição dos dados em formato \n",
        "# box-plot, um para cada classe.\n",
        "def boxplot_comparisson(df):\n",
        "    float_attr = [\"MonthlyIncome\", \n",
        "                  \"RevolvingUtilizationOfUnsecuredLines\", \n",
        "                  \"DebtRatio\"]\n",
        "    \n",
        "    for c in float_attr:\n",
        "        fig3, ax3 = plt.subplots(figsize=(20,8))\n",
        "        \n",
        "        g = sns.boxplot(x=\"SeriousDlqin2yrs\", hue=\"SeriousDlqin2yrs\", y=c, data=df)\n",
        "        g.set_title(c)\n",
        "        g.set_yscale(\"log\")\n",
        "        \n",
        "# Checa a correlação entre cada um dos atributos (são todos numéricos)\n",
        "def check_correlation(df): \n",
        "    fig, ax = plt.subplots(figsize=(20,8))\n",
        "    sns.heatmap(\n",
        "        df.corr(), \n",
        "        vmin=-1, vmax=1, center=0,\n",
        "        cmap=sns.diverging_palette(20, 220, n=200),\n",
        "        square=True,\n",
        "        annot = True\n",
        "    ).set_title('Correlação')\n",
        "    \n",
        "    return \n",
        "\n",
        "# Exibe informações básicas sobre o dataset. Comente/ descomente as linhas \n",
        "# conforme quiser.\n",
        "def analise_exploratoria(df):\n",
        "    fig1, ax1 = plt.subplots(figsize=(20,8))\n",
        "    sns.countplot(x=\"SeriousDlqin2yrs\", data=df).set_title('Balanceamento de Classes')\n",
        "\n",
        "    #countplot_comparisson(df)\n",
        "    #boxplot_comparisson(df)\n",
        "    check_correlation(df)\n",
        "    \n",
        "    return"
      ],
      "execution_count": 135,
      "outputs": []
    },
    {
      "cell_type": "markdown",
      "metadata": {
        "id": "yTKfazH9PLhw"
      },
      "source": [
        "## 1.3 Pré Processamento"
      ]
    },
    {
      "cell_type": "code",
      "metadata": {
        "execution": {
          "iopub.status.busy": "2021-06-30T23:30:20.837753Z",
          "iopub.execute_input": "2021-06-30T23:30:20.838208Z",
          "iopub.status.idle": "2021-06-30T23:30:20.855609Z",
          "shell.execute_reply.started": "2021-06-30T23:30:20.838164Z",
          "shell.execute_reply": "2021-06-30T23:30:20.854244Z"
        },
        "trusted": true,
        "id": "TKNb6nDRPLhw"
      },
      "source": [
        "# Ajusta a diferença de registros entre as classes\n",
        "def reamostragem(X, Y):\n",
        "    smt = SMOTETomek(sampling_strategy='auto')\n",
        "    X_smt, y_smt = smt.fit_resample(X, Y)\n",
        "\n",
        "    previous_pos = len(Y[Y[\"SeriousDlqin2yrs\"]==1])\n",
        "    previous_neg = len(Y[Y[\"SeriousDlqin2yrs\"]==0])\n",
        "    current_pos = len(y_smt[y_smt==1])\n",
        "    current_neg = len(y_smt[y_smt==0])\n",
        "    \n",
        "    print(\"INFO* Antes da reamostragem: Pos=%d/ Neg=%d; Após reamostragem: Pos=%d/ Neg=%d.\" %(previous_pos, previous_neg, current_pos, current_neg))\n",
        "    \n",
        "    return (X_smt, y_smt)\n",
        "\n",
        "# Normaliza os valores numéricos pela média e desvio padrão.\n",
        "def normalizacao_mean_std(X):\n",
        "    scaler = StandardScaler()\n",
        "    X = scaler.fit_transform(X)\n",
        "    \n",
        "    return X\n",
        "\n",
        "\n",
        "# Esta função deve realizar todas as etapas de pre-processamento antes de calibrar o modelo.\n",
        "def preprocessamento(df):\n",
        "    \n",
        "    # Descar linhas NaN\n",
        "    #df.dropna(axis=0, how=\"any\", inplace=True)\n",
        "    \n",
        "    # Preenche NaNs com a média\n",
        "    #for c in df.columns:\n",
        "    #    df[c].fillna((df[c].mean()), inplace=True)\n",
        "        \n",
        "    # Preenche NaNs com zero\n",
        "    for c in df.columns:\n",
        "        df[c].fillna(0, inplace=True)\n",
        "    \n",
        "    # Separando \n",
        "    Y = df[\"SeriousDlqin2yrs\"].to_frame()\n",
        "    X = df.drop(columns=\"SeriousDlqin2yrs\")\n",
        "    \n",
        "    # Normalizar atributos independentes\n",
        "    #X = normalizacao_mean_std(X)\n",
        "\n",
        "    return (X, Y)"
      ],
      "execution_count": 136,
      "outputs": []
    },
    {
      "cell_type": "markdown",
      "metadata": {
        "id": "N1kWGABGPLhx"
      },
      "source": [
        "## 2. Amostragem e treino"
      ]
    },
    {
      "cell_type": "code",
      "metadata": {
        "execution": {
          "iopub.status.busy": "2021-06-30T23:30:20.857285Z",
          "iopub.execute_input": "2021-06-30T23:30:20.857815Z",
          "iopub.status.idle": "2021-06-30T23:30:20.874968Z",
          "shell.execute_reply.started": "2021-06-30T23:30:20.857781Z",
          "shell.execute_reply": "2021-06-30T23:30:20.874266Z"
        },
        "trusted": true,
        "id": "Vp3OOqSMPLhy"
      },
      "source": [
        "# Esta função deve reunir todas as etapas para a obtenção do modelo, seja diretamente\n",
        "# sobre os dados de treino (Hold Out) ou por otimização Validação Cruzada + Grid Search.\n",
        "# Escolha o método de classificação de sua preferência.\n",
        "def otimizacao(X_train, Y_train):\n",
        "    \n",
        "    # Coloque aqui a inicialização e treino do seu modelo\n",
        "    \n",
        "    \n",
        "    \n",
        "    \n",
        "    return model"
      ],
      "execution_count": 137,
      "outputs": []
    },
    {
      "cell_type": "markdown",
      "metadata": {
        "id": "mvAoDpaTPLhy"
      },
      "source": [
        "## 3. Resultados"
      ]
    },
    {
      "cell_type": "code",
      "metadata": {
        "execution": {
          "iopub.status.busy": "2021-06-30T23:30:20.876590Z",
          "iopub.execute_input": "2021-06-30T23:30:20.877156Z",
          "iopub.status.idle": "2021-06-30T23:30:20.892844Z",
          "shell.execute_reply.started": "2021-06-30T23:30:20.877109Z",
          "shell.execute_reply": "2021-06-30T23:30:20.891629Z"
        },
        "trusted": true,
        "id": "sojMAjh0PLhy"
      },
      "source": [
        "# Essa função exibe os resultados da classificação pelo modelo gerado. Para tanto, a função\n",
        "# espera receber um dicionário cuja primeira chave é a fase (Treino, Validação e Teste) e a \n",
        "# segunda os dados (actual, pred e pred_prob).\n",
        "def resultados(res):\n",
        "\n",
        "    # Medidas de acerto \n",
        "    for phase in res.keys():\n",
        "        print(\"-------------------------------------------------------------\")\n",
        "        print(\"Evaluating %s\" %(phase))\n",
        "        print(classification_report(res[phase][\"actual\"], res[phase][\"pred\"]))\n",
        "    \n",
        "    # Matriz de Confusão\n",
        "    for phase in res.keys():\n",
        "        print(\"-------------------------------------------------------------\")\n",
        "        print(\"Evaluating %s\" %(phase))\n",
        "        skplt.metrics.plot_confusion_matrix(res[phase][\"actual\"], res[phase][\"pred\"])\n",
        "        plt.show()\n",
        "    \n",
        "    # Curva ROC-AUC\n",
        "    for phase in res.keys():\n",
        "        print(\"-------------------------------------------------------------\")\n",
        "        print(\"Evaluating %s\" %(phase))\n",
        "        skplt.metrics.plot_roc_curve(res[phase][\"actual\"], res[phase][\"prob\"])\n",
        "        plt.show()\n",
        "\n",
        "    return"
      ],
      "execution_count": 138,
      "outputs": []
    },
    {
      "cell_type": "code",
      "metadata": {
        "id": "RiPU06Lj6j4G"
      },
      "source": [
        ""
      ],
      "execution_count": 138,
      "outputs": []
    },
    {
      "cell_type": "markdown",
      "metadata": {
        "id": "qeOxAWDNPLhz"
      },
      "source": [
        "# Programa Principal"
      ]
    },
    {
      "cell_type": "markdown",
      "metadata": {
        "id": "ojyxnBWCPLhz"
      },
      "source": [
        "Carregando os dados:"
      ]
    },
    {
      "cell_type": "code",
      "metadata": {
        "execution": {
          "iopub.status.busy": "2021-06-30T23:30:20.896500Z",
          "iopub.execute_input": "2021-06-30T23:30:20.896976Z",
          "iopub.status.idle": "2021-06-30T23:30:21.437528Z",
          "shell.execute_reply.started": "2021-06-30T23:30:20.896936Z",
          "shell.execute_reply": "2021-06-30T23:30:21.436282Z"
        },
        "trusted": true,
        "id": "iEMLOVLzPLhz",
        "colab": {
          "base_uri": "https://localhost:8080/"
        },
        "outputId": "aa940bda-76c6-4d75-ba08-385d88a726f0"
      },
      "source": [
        "# Carrega os dados para um daframe\n",
        "df_treino = carrega_treino()\n",
        "print(\"INFO* Registros de treino orginais: %d; Colunas: %d.\" %(df_treino.shape))"
      ],
      "execution_count": 139,
      "outputs": [
        {
          "output_type": "stream",
          "text": [
            "INFO* Registros de treino orginais: 150000; Colunas: 11.\n"
          ],
          "name": "stdout"
        }
      ]
    },
    {
      "cell_type": "markdown",
      "metadata": {
        "id": "ZwJFQW2iPLh0"
      },
      "source": [
        "Análise exploratória (opcional):"
      ]
    },
    {
      "cell_type": "code",
      "metadata": {
        "execution": {
          "iopub.status.busy": "2021-06-30T23:30:21.439105Z",
          "iopub.execute_input": "2021-06-30T23:30:21.439385Z",
          "iopub.status.idle": "2021-06-30T23:30:22.824211Z",
          "shell.execute_reply.started": "2021-06-30T23:30:21.439357Z",
          "shell.execute_reply": "2021-06-30T23:30:22.822973Z"
        },
        "trusted": true,
        "id": "TKV13X5ePLh0",
        "colab": {
          "base_uri": "https://localhost:8080/",
          "height": 1000
        },
        "outputId": "85be6539-4037-45dc-e43f-8ac071ea2fdb"
      },
      "source": [
        "# Exibe características do atributo alvo, dos demais atributos e da relação entre eles.\n",
        "analise_exploratoria(df_treino)"
      ],
      "execution_count": 140,
      "outputs": [
        {
          "output_type": "display_data",
          "data": {
            "image/png": "[encoded data removed]",
            "text/plain": [
              "<Figure size 1440x576 with 1 Axes>"
            ]
          },
          "metadata": {
            "tags": [],
            "needs_background": "light"
          }
        },
        {
          "output_type": "display_data",
          "data": {
            "image/png": "[encoded data removed]",
            "text/plain": [
              "<Figure size 1440x576 with 2 Axes>"
            ]
          },
          "metadata": {
            "tags": [],
            "needs_background": "light"
          }
        }
      ]
    },
    {
      "cell_type": "code",
      "metadata": {
        "execution": {
          "iopub.status.busy": "2021-06-30T23:30:22.825517Z",
          "iopub.execute_input": "2021-06-30T23:30:22.825789Z",
          "iopub.status.idle": "2021-06-30T23:30:22.837764Z",
          "shell.execute_reply.started": "2021-06-30T23:30:22.825760Z",
          "shell.execute_reply": "2021-06-30T23:30:22.836455Z"
        },
        "trusted": true,
        "id": "bNalqiF3PLh1",
        "colab": {
          "base_uri": "https://localhost:8080/"
        },
        "outputId": "f664c584-f659-4f25-8f96-d61ae99f9a57"
      },
      "source": [
        "#\n",
        "class0 = df_treino['SeriousDlqin2yrs'].value_counts()[0]\n",
        "class1 = df_treino['SeriousDlqin2yrs'].value_counts()[1]\n",
        "print(\"class 0 : {}\".format(class0))\n",
        "print(\"class 1 : {}\".format(class1))\n",
        "print(\"delinquency rate: {}\".format(class1/(class0+class1)))"
      ],
      "execution_count": 141,
      "outputs": [
        {
          "output_type": "stream",
          "text": [
            "class 0 : 139974\n",
            "class 1 : 10026\n",
            "delinquency rate: 0.06684\n"
          ],
          "name": "stdout"
        }
      ]
    },
    {
      "cell_type": "markdown",
      "metadata": {
        "id": "Ia7jSI4ePLh1"
      },
      "source": [
        ""
      ]
    },
    {
      "cell_type": "markdown",
      "metadata": {
        "id": "nvo2mvhWPLh1"
      },
      "source": [
        "Passoa a serem feitos\n",
        "* colocar uma mmédia nos dados faltantes na coluna rendimento mensal(MonthlyIncome)\n",
        "* zerar os dados faltantes na coluna nº de dependentes(NumberOfDependents)\n",
        "* excluir o registro da linha 65695 que mostra idade menor que 18 anos."
      ]
    },
    {
      "cell_type": "code",
      "metadata": {
        "execution": {
          "iopub.status.busy": "2021-06-30T23:30:22.839091Z",
          "iopub.execute_input": "2021-06-30T23:30:22.839410Z",
          "iopub.status.idle": "2021-06-30T23:30:22.856181Z",
          "shell.execute_reply.started": "2021-06-30T23:30:22.839377Z",
          "shell.execute_reply": "2021-06-30T23:30:22.854785Z"
        },
        "trusted": true,
        "id": "7z1skQufPLh2",
        "colab": {
          "base_uri": "https://localhost:8080/"
        },
        "outputId": "be6bbe5f-c559-4d13-96b9-9b43689a992f"
      },
      "source": [
        "# verificação de valores nullos\n",
        "df_treino.isnull().sum()"
      ],
      "execution_count": 142,
      "outputs": [
        {
          "output_type": "execute_result",
          "data": {
            "text/plain": [
              "SeriousDlqin2yrs                            0\n",
              "RevolvingUtilizationOfUnsecuredLines        0\n",
              "age                                         0\n",
              "NumberOfTime30-59DaysPastDueNotWorse        0\n",
              "DebtRatio                                   0\n",
              "MonthlyIncome                           29731\n",
              "NumberOfOpenCreditLinesAndLoans             0\n",
              "NumberOfTimes90DaysLate                     0\n",
              "NumberRealEstateLoansOrLines                0\n",
              "NumberOfTime60-89DaysPastDueNotWorse        0\n",
              "NumberOfDependents                       3924\n",
              "dtype: int64"
            ]
          },
          "metadata": {
            "tags": []
          },
          "execution_count": 142
        }
      ]
    },
    {
      "cell_type": "markdown",
      "metadata": {
        "id": "9b0YD9QrPLh3"
      },
      "source": [
        "# Tratandos dados faltantes da coluna de rendimento mensal(MonthlyIncome)\n",
        "\n",
        "Pensei na hipótese de ser mais assertivo e preencher os dados confome média de idades, ou seja, pegaria o min. e máx de idade e separaria em 3 grupos por exemplo. E dentro de cada grupo, já que em tese, conforme maior idade, maior o rendimento mensal. \n",
        "\n",
        "Com isso, As colunas de rendimento mensal receberia o valor médio conforme sua idade \n",
        "\n",
        "O maior motivo de não ter ido por esse lado é a corelação entre idade e rendimento mensal que está bem baixa e parece não afetar tanto o resultado final, então optei por preencher com a média geral."
      ]
    },
    {
      "cell_type": "code",
      "metadata": {
        "execution": {
          "iopub.status.busy": "2021-06-30T23:30:22.857462Z",
          "iopub.execute_input": "2021-06-30T23:30:22.857860Z",
          "iopub.status.idle": "2021-06-30T23:30:22.866937Z",
          "shell.execute_reply.started": "2021-06-30T23:30:22.857804Z",
          "shell.execute_reply": "2021-06-30T23:30:22.865654Z"
        },
        "trusted": true,
        "id": "xVRnBIxUPLh3"
      },
      "source": [
        "media_renda_mensal = df_treino['MonthlyIncome'].mean()\n",
        "\n",
        "df_treino['MonthlyIncome'] = df_treino['MonthlyIncome'].fillna(media_renda_mensal)\n",
        "\n"
      ],
      "execution_count": 143,
      "outputs": []
    },
    {
      "cell_type": "markdown",
      "metadata": {
        "id": "Idh17nAAPLh4"
      },
      "source": [
        "### Também fiz a opção de preencher os dados faltantes da coluna número de dependentes com 0."
      ]
    },
    {
      "cell_type": "code",
      "metadata": {
        "execution": {
          "iopub.status.busy": "2021-06-30T23:30:22.868073Z",
          "iopub.execute_input": "2021-06-30T23:30:22.868427Z",
          "iopub.status.idle": "2021-06-30T23:30:22.879614Z",
          "shell.execute_reply.started": "2021-06-30T23:30:22.868396Z",
          "shell.execute_reply": "2021-06-30T23:30:22.878084Z"
        },
        "trusted": true,
        "id": "XV98TSh2PLh4"
      },
      "source": [
        "df_treino['NumberOfDependents'] = df_treino['NumberOfDependents'].fillna(0)"
      ],
      "execution_count": 144,
      "outputs": []
    },
    {
      "cell_type": "code",
      "metadata": {
        "execution": {
          "iopub.status.busy": "2021-06-30T23:30:22.880910Z",
          "iopub.execute_input": "2021-06-30T23:30:22.881238Z",
          "iopub.status.idle": "2021-06-30T23:30:22.898931Z",
          "shell.execute_reply.started": "2021-06-30T23:30:22.881206Z",
          "shell.execute_reply": "2021-06-30T23:30:22.897446Z"
        },
        "trusted": true,
        "id": "AD_EYfLNPLh5",
        "colab": {
          "base_uri": "https://localhost:8080/"
        },
        "outputId": "b5852741-e194-4a3c-9343-30c78786cbcf"
      },
      "source": [
        "#sem dados faltantes\n",
        "\n",
        "df_treino.isnull().sum()"
      ],
      "execution_count": 145,
      "outputs": [
        {
          "output_type": "execute_result",
          "data": {
            "text/plain": [
              "SeriousDlqin2yrs                        0\n",
              "RevolvingUtilizationOfUnsecuredLines    0\n",
              "age                                     0\n",
              "NumberOfTime30-59DaysPastDueNotWorse    0\n",
              "DebtRatio                               0\n",
              "MonthlyIncome                           0\n",
              "NumberOfOpenCreditLinesAndLoans         0\n",
              "NumberOfTimes90DaysLate                 0\n",
              "NumberRealEstateLoansOrLines            0\n",
              "NumberOfTime60-89DaysPastDueNotWorse    0\n",
              "NumberOfDependents                      0\n",
              "dtype: int64"
            ]
          },
          "metadata": {
            "tags": []
          },
          "execution_count": 145
        }
      ]
    },
    {
      "cell_type": "markdown",
      "metadata": {
        "id": "lcq_Iej3PLh6"
      },
      "source": [
        "### Por se tratar de pedido de crédito, fiz a verificação se há menores de 18 anos e a remoção, visto que não é permitido solicitar crédito < 18 anos.\n",
        "\n",
        "### As idadesacima de 100 anos, decidi manter, pois apesar de incomum, são idades possíveis.\n"
      ]
    },
    {
      "cell_type": "code",
      "metadata": {
        "execution": {
          "iopub.status.busy": "2021-06-30T23:30:22.900823Z",
          "iopub.execute_input": "2021-06-30T23:30:22.901303Z",
          "iopub.status.idle": "2021-06-30T23:30:22.937206Z",
          "shell.execute_reply.started": "2021-06-30T23:30:22.901251Z",
          "shell.execute_reply": "2021-06-30T23:30:22.935932Z"
        },
        "trusted": true,
        "id": "Lw8S24U1PLh6",
        "colab": {
          "base_uri": "https://localhost:8080/",
          "height": 80
        },
        "outputId": "887c57f2-accf-4de3-d32b-08864fd73afb"
      },
      "source": [
        "df_treino[df_treino['age'] < 18]"
      ],
      "execution_count": 146,
      "outputs": [
        {
          "output_type": "execute_result",
          "data": {
            "text/html": [
              "<div>\n",
              "<style scoped>\n",
              "    .dataframe tbody tr th:only-of-type {\n",
              "        vertical-align: middle;\n",
              "    }\n",
              "\n",
              "    .dataframe tbody tr th {\n",
              "        vertical-align: top;\n",
              "    }\n",
              "\n",
              "    .dataframe thead th {\n",
              "        text-align: right;\n",
              "    }\n",
              "</style>\n",
              "<table border=\"1\" class=\"dataframe\">\n",
              "  <thead>\n",
              "    <tr style=\"text-align: right;\">\n",
              "      <th></th>\n",
              "      <th>SeriousDlqin2yrs</th>\n",
              "      <th>RevolvingUtilizationOfUnsecuredLines</th>\n",
              "      <th>age</th>\n",
              "      <th>NumberOfTime30-59DaysPastDueNotWorse</th>\n",
              "      <th>DebtRatio</th>\n",
              "      <th>MonthlyIncome</th>\n",
              "      <th>NumberOfOpenCreditLinesAndLoans</th>\n",
              "      <th>NumberOfTimes90DaysLate</th>\n",
              "      <th>NumberRealEstateLoansOrLines</th>\n",
              "      <th>NumberOfTime60-89DaysPastDueNotWorse</th>\n",
              "      <th>NumberOfDependents</th>\n",
              "    </tr>\n",
              "  </thead>\n",
              "  <tbody>\n",
              "    <tr>\n",
              "      <th>65695</th>\n",
              "      <td>0</td>\n",
              "      <td>1.0</td>\n",
              "      <td>0</td>\n",
              "      <td>1</td>\n",
              "      <td>0.436927</td>\n",
              "      <td>6000.0</td>\n",
              "      <td>6</td>\n",
              "      <td>0</td>\n",
              "      <td>2</td>\n",
              "      <td>0</td>\n",
              "      <td>2.0</td>\n",
              "    </tr>\n",
              "  </tbody>\n",
              "</table>\n",
              "</div>"
            ],
            "text/plain": [
              "       SeriousDlqin2yrs  ...  NumberOfDependents\n",
              "65695                 0  ...                 2.0\n",
              "\n",
              "[1 rows x 11 columns]"
            ]
          },
          "metadata": {
            "tags": []
          },
          "execution_count": 146
        }
      ]
    },
    {
      "cell_type": "code",
      "metadata": {
        "execution": {
          "iopub.status.busy": "2021-06-30T23:30:22.938861Z",
          "iopub.execute_input": "2021-06-30T23:30:22.939304Z",
          "iopub.status.idle": "2021-06-30T23:30:23.068730Z",
          "shell.execute_reply.started": "2021-06-30T23:30:22.939255Z",
          "shell.execute_reply": "2021-06-30T23:30:23.067573Z"
        },
        "trusted": true,
        "id": "c5BxgQimPLh7",
        "colab": {
          "base_uri": "https://localhost:8080/",
          "height": 627
        },
        "outputId": "51089473-9f54-4183-a15f-7d7f19adc0da"
      },
      "source": [
        "plt.figure(figsize=(8,3))\n",
        "sns.boxplot(df_treino['age'])\n",
        "df_treino"
      ],
      "execution_count": 147,
      "outputs": [
        {
          "output_type": "execute_result",
          "data": {
            "text/html": [
              "<div>\n",
              "<style scoped>\n",
              "    .dataframe tbody tr th:only-of-type {\n",
              "        vertical-align: middle;\n",
              "    }\n",
              "\n",
              "    .dataframe tbody tr th {\n",
              "        vertical-align: top;\n",
              "    }\n",
              "\n",
              "    .dataframe thead th {\n",
              "        text-align: right;\n",
              "    }\n",
              "</style>\n",
              "<table border=\"1\" class=\"dataframe\">\n",
              "  <thead>\n",
              "    <tr style=\"text-align: right;\">\n",
              "      <th></th>\n",
              "      <th>SeriousDlqin2yrs</th>\n",
              "      <th>RevolvingUtilizationOfUnsecuredLines</th>\n",
              "      <th>age</th>\n",
              "      <th>NumberOfTime30-59DaysPastDueNotWorse</th>\n",
              "      <th>DebtRatio</th>\n",
              "      <th>MonthlyIncome</th>\n",
              "      <th>NumberOfOpenCreditLinesAndLoans</th>\n",
              "      <th>NumberOfTimes90DaysLate</th>\n",
              "      <th>NumberRealEstateLoansOrLines</th>\n",
              "      <th>NumberOfTime60-89DaysPastDueNotWorse</th>\n",
              "      <th>NumberOfDependents</th>\n",
              "    </tr>\n",
              "  </thead>\n",
              "  <tbody>\n",
              "    <tr>\n",
              "      <th>0</th>\n",
              "      <td>1</td>\n",
              "      <td>0.766127</td>\n",
              "      <td>45</td>\n",
              "      <td>2</td>\n",
              "      <td>0.802982</td>\n",
              "      <td>9120.000000</td>\n",
              "      <td>13</td>\n",
              "      <td>0</td>\n",
              "      <td>6</td>\n",
              "      <td>0</td>\n",
              "      <td>2.0</td>\n",
              "    </tr>\n",
              "    <tr>\n",
              "      <th>1</th>\n",
              "      <td>0</td>\n",
              "      <td>0.957151</td>\n",
              "      <td>40</td>\n",
              "      <td>0</td>\n",
              "      <td>0.121876</td>\n",
              "      <td>2600.000000</td>\n",
              "      <td>4</td>\n",
              "      <td>0</td>\n",
              "      <td>0</td>\n",
              "      <td>0</td>\n",
              "      <td>1.0</td>\n",
              "    </tr>\n",
              "    <tr>\n",
              "      <th>2</th>\n",
              "      <td>0</td>\n",
              "      <td>0.658180</td>\n",
              "      <td>38</td>\n",
              "      <td>1</td>\n",
              "      <td>0.085113</td>\n",
              "      <td>3042.000000</td>\n",
              "      <td>2</td>\n",
              "      <td>1</td>\n",
              "      <td>0</td>\n",
              "      <td>0</td>\n",
              "      <td>0.0</td>\n",
              "    </tr>\n",
              "    <tr>\n",
              "      <th>3</th>\n",
              "      <td>0</td>\n",
              "      <td>0.233810</td>\n",
              "      <td>30</td>\n",
              "      <td>0</td>\n",
              "      <td>0.036050</td>\n",
              "      <td>3300.000000</td>\n",
              "      <td>5</td>\n",
              "      <td>0</td>\n",
              "      <td>0</td>\n",
              "      <td>0</td>\n",
              "      <td>0.0</td>\n",
              "    </tr>\n",
              "    <tr>\n",
              "      <th>4</th>\n",
              "      <td>0</td>\n",
              "      <td>0.907239</td>\n",
              "      <td>49</td>\n",
              "      <td>1</td>\n",
              "      <td>0.024926</td>\n",
              "      <td>63588.000000</td>\n",
              "      <td>7</td>\n",
              "      <td>0</td>\n",
              "      <td>1</td>\n",
              "      <td>0</td>\n",
              "      <td>0.0</td>\n",
              "    </tr>\n",
              "    <tr>\n",
              "      <th>...</th>\n",
              "      <td>...</td>\n",
              "      <td>...</td>\n",
              "      <td>...</td>\n",
              "      <td>...</td>\n",
              "      <td>...</td>\n",
              "      <td>...</td>\n",
              "      <td>...</td>\n",
              "      <td>...</td>\n",
              "      <td>...</td>\n",
              "      <td>...</td>\n",
              "      <td>...</td>\n",
              "    </tr>\n",
              "    <tr>\n",
              "      <th>149995</th>\n",
              "      <td>0</td>\n",
              "      <td>0.040674</td>\n",
              "      <td>74</td>\n",
              "      <td>0</td>\n",
              "      <td>0.225131</td>\n",
              "      <td>2100.000000</td>\n",
              "      <td>4</td>\n",
              "      <td>0</td>\n",
              "      <td>1</td>\n",
              "      <td>0</td>\n",
              "      <td>0.0</td>\n",
              "    </tr>\n",
              "    <tr>\n",
              "      <th>149996</th>\n",
              "      <td>0</td>\n",
              "      <td>0.299745</td>\n",
              "      <td>44</td>\n",
              "      <td>0</td>\n",
              "      <td>0.716562</td>\n",
              "      <td>5584.000000</td>\n",
              "      <td>4</td>\n",
              "      <td>0</td>\n",
              "      <td>1</td>\n",
              "      <td>0</td>\n",
              "      <td>2.0</td>\n",
              "    </tr>\n",
              "    <tr>\n",
              "      <th>149997</th>\n",
              "      <td>0</td>\n",
              "      <td>0.246044</td>\n",
              "      <td>58</td>\n",
              "      <td>0</td>\n",
              "      <td>3870.000000</td>\n",
              "      <td>6670.221237</td>\n",
              "      <td>18</td>\n",
              "      <td>0</td>\n",
              "      <td>1</td>\n",
              "      <td>0</td>\n",
              "      <td>0.0</td>\n",
              "    </tr>\n",
              "    <tr>\n",
              "      <th>149998</th>\n",
              "      <td>0</td>\n",
              "      <td>0.000000</td>\n",
              "      <td>30</td>\n",
              "      <td>0</td>\n",
              "      <td>0.000000</td>\n",
              "      <td>5716.000000</td>\n",
              "      <td>4</td>\n",
              "      <td>0</td>\n",
              "      <td>0</td>\n",
              "      <td>0</td>\n",
              "      <td>0.0</td>\n",
              "    </tr>\n",
              "    <tr>\n",
              "      <th>149999</th>\n",
              "      <td>0</td>\n",
              "      <td>0.850283</td>\n",
              "      <td>64</td>\n",
              "      <td>0</td>\n",
              "      <td>0.249908</td>\n",
              "      <td>8158.000000</td>\n",
              "      <td>8</td>\n",
              "      <td>0</td>\n",
              "      <td>2</td>\n",
              "      <td>0</td>\n",
              "      <td>0.0</td>\n",
              "    </tr>\n",
              "  </tbody>\n",
              "</table>\n",
              "<p>150000 rows × 11 columns</p>\n",
              "</div>"
            ],
            "text/plain": [
              "        SeriousDlqin2yrs  ...  NumberOfDependents\n",
              "0                      1  ...                 2.0\n",
              "1                      0  ...                 1.0\n",
              "2                      0  ...                 0.0\n",
              "3                      0  ...                 0.0\n",
              "4                      0  ...                 0.0\n",
              "...                  ...  ...                 ...\n",
              "149995                 0  ...                 0.0\n",
              "149996                 0  ...                 2.0\n",
              "149997                 0  ...                 0.0\n",
              "149998                 0  ...                 0.0\n",
              "149999                 0  ...                 0.0\n",
              "\n",
              "[150000 rows x 11 columns]"
            ]
          },
          "metadata": {
            "tags": []
          },
          "execution_count": 147
        },
        {
          "output_type": "display_data",
          "data": {
            "image/png": "[encoded data removed]",
            "text/plain": [
              "<Figure size 576x216 with 1 Axes>"
            ]
          },
          "metadata": {
            "tags": [],
            "needs_background": "light"
          }
        }
      ]
    },
    {
      "cell_type": "code",
      "metadata": {
        "execution": {
          "iopub.status.busy": "2021-06-30T23:30:23.070188Z",
          "iopub.execute_input": "2021-06-30T23:30:23.070476Z",
          "iopub.status.idle": "2021-06-30T23:30:23.091582Z",
          "shell.execute_reply.started": "2021-06-30T23:30:23.070448Z",
          "shell.execute_reply": "2021-06-30T23:30:23.090499Z"
        },
        "trusted": true,
        "id": "LVDGtSIRPLh7",
        "colab": {
          "base_uri": "https://localhost:8080/",
          "height": 49
        },
        "outputId": "0260fdf6-d2f8-4ec3-ff26-cbb2a3db0af6"
      },
      "source": [
        "df_treino = df_treino.drop(65695)\n",
        "df_treino[df_treino['age'] < 18]"
      ],
      "execution_count": 148,
      "outputs": [
        {
          "output_type": "execute_result",
          "data": {
            "text/html": [
              "<div>\n",
              "<style scoped>\n",
              "    .dataframe tbody tr th:only-of-type {\n",
              "        vertical-align: middle;\n",
              "    }\n",
              "\n",
              "    .dataframe tbody tr th {\n",
              "        vertical-align: top;\n",
              "    }\n",
              "\n",
              "    .dataframe thead th {\n",
              "        text-align: right;\n",
              "    }\n",
              "</style>\n",
              "<table border=\"1\" class=\"dataframe\">\n",
              "  <thead>\n",
              "    <tr style=\"text-align: right;\">\n",
              "      <th></th>\n",
              "      <th>SeriousDlqin2yrs</th>\n",
              "      <th>RevolvingUtilizationOfUnsecuredLines</th>\n",
              "      <th>age</th>\n",
              "      <th>NumberOfTime30-59DaysPastDueNotWorse</th>\n",
              "      <th>DebtRatio</th>\n",
              "      <th>MonthlyIncome</th>\n",
              "      <th>NumberOfOpenCreditLinesAndLoans</th>\n",
              "      <th>NumberOfTimes90DaysLate</th>\n",
              "      <th>NumberRealEstateLoansOrLines</th>\n",
              "      <th>NumberOfTime60-89DaysPastDueNotWorse</th>\n",
              "      <th>NumberOfDependents</th>\n",
              "    </tr>\n",
              "  </thead>\n",
              "  <tbody>\n",
              "  </tbody>\n",
              "</table>\n",
              "</div>"
            ],
            "text/plain": [
              "Empty DataFrame\n",
              "Columns: [SeriousDlqin2yrs, RevolvingUtilizationOfUnsecuredLines, age, NumberOfTime30-59DaysPastDueNotWorse, DebtRatio, MonthlyIncome, NumberOfOpenCreditLinesAndLoans, NumberOfTimes90DaysLate, NumberRealEstateLoansOrLines, NumberOfTime60-89DaysPastDueNotWorse, NumberOfDependents]\n",
              "Index: []"
            ]
          },
          "metadata": {
            "tags": []
          },
          "execution_count": 148
        }
      ]
    },
    {
      "cell_type": "markdown",
      "metadata": {
        "id": "SaIDrwx7PLh8"
      },
      "source": [
        "Pré-processamento e separação Treino/Teste:"
      ]
    },
    {
      "cell_type": "code",
      "metadata": {
        "execution": {
          "iopub.status.busy": "2021-06-30T23:30:23.093000Z",
          "iopub.execute_input": "2021-06-30T23:30:23.093365Z",
          "iopub.status.idle": "2021-06-30T23:30:23.764320Z",
          "shell.execute_reply.started": "2021-06-30T23:30:23.093336Z",
          "shell.execute_reply": "2021-06-30T23:30:23.763301Z"
        },
        "trusted": true,
        "id": "ZI7RnxcwPLh8",
        "colab": {
          "base_uri": "https://localhost:8080/"
        },
        "outputId": "bb472258-0e0b-4a78-f3e1-62e9ae254182"
      },
      "source": [
        "# Executa todas as rotinas de preprocessamento e separa atributo alvo\n",
        "X, Y = preprocessamento(df_treino)\n",
        "print(\"INFO* Registros após preproc: %d; Colunas em X: %d; Colunas em Y: 1.\" %(X.shape))\n",
        "\n",
        "# Separa 5% dos dados para teste (+- 5000 registros)\n",
        "X_train, X_test, y_train, y_test = train_test_split(X, Y, test_size=0.05, stratify=Y, shuffle=True)\n",
        "print(\"INFO* Registros separados para treino: %d; teste: %d.\" %(len(y_train), len(y_test)))"
      ],
      "execution_count": 149,
      "outputs": [
        {
          "output_type": "stream",
          "text": [
            "INFO* Registros após preproc: 149999; Colunas em X: 10; Colunas em Y: 1.\n",
            "INFO* Registros separados para treino: 142499; teste: 7500.\n"
          ],
          "name": "stdout"
        }
      ]
    },
    {
      "cell_type": "markdown",
      "metadata": {
        "id": "9RxR2z-CPLh9"
      },
      "source": [
        "Ajuste de balanceamento (opcional):"
      ]
    },
    {
      "cell_type": "code",
      "metadata": {
        "execution": {
          "iopub.status.busy": "2021-06-30T23:30:23.765556Z",
          "iopub.execute_input": "2021-06-30T23:30:23.766132Z",
          "iopub.status.idle": "2021-06-30T23:30:40.630938Z",
          "shell.execute_reply.started": "2021-06-30T23:30:23.766088Z",
          "shell.execute_reply": "2021-06-30T23:30:40.630230Z"
        },
        "trusted": true,
        "id": "SekFUln2PLh9",
        "colab": {
          "base_uri": "https://localhost:8080/"
        },
        "outputId": "46a9f722-561a-45ab-89fd-3e34bf0fb87b"
      },
      "source": [
        "# Emprega tecnicas de reamostragem para tratar o desbalanceamento de classes\n",
        "X_train_rs, y_train_rs = reamostragem(X_train, y_train)\n",
        "print(\"INFO* Registros de treino após reamostragem: %d linhas, %d colunas.\" %(X_train_rs.shape))"
      ],
      "execution_count": 150,
      "outputs": [
        {
          "output_type": "stream",
          "text": [
            "INFO* Antes da reamostragem: Pos=9525/ Neg=132974; Após reamostragem: Pos=130298/ Neg=130298.\n",
            "INFO* Registros de treino após reamostragem: 260596 linhas, 10 colunas.\n"
          ],
          "name": "stdout"
        }
      ]
    },
    {
      "cell_type": "code",
      "metadata": {
        "id": "TR0PpdgJPLh9"
      },
      "source": [
        ""
      ],
      "execution_count": 150,
      "outputs": []
    },
    {
      "cell_type": "markdown",
      "metadata": {
        "id": "E0VrpIItPLh-"
      },
      "source": [
        "### Rodando 5 tipos de modelos de classificação para verificar qual possui melhor score.\n",
        "#### Pegando score em roc_ac e matriz de confusão\n"
      ]
    },
    {
      "cell_type": "markdown",
      "metadata": {
        "id": "JJIjtLh2PLh-"
      },
      "source": [
        "Calibrando o modelo:"
      ]
    },
    {
      "cell_type": "code",
      "metadata": {
        "execution": {
          "iopub.status.busy": "2021-06-30T23:30:40.631960Z",
          "iopub.execute_input": "2021-06-30T23:30:40.632357Z"
        },
        "trusted": true,
        "id": "d7yHy4K3PLh-",
        "colab": {
          "base_uri": "https://localhost:8080/",
          "height": 309
        },
        "outputId": "f89620e7-9472-4113-8bd2-dcb2875bb9b7"
      },
      "source": [
        "from sklearn.metrics import confusion_matrix\n",
        "\n",
        "# x_sub_sample = df_treino.drop(columns=['SeriousDlqin2yrs'])\n",
        "# y_sub_sample = df_treino['SeriousDlqin2yrs']\n",
        "\n",
        "fig = plt.figure()\n",
        "ax = fig.add_subplot(111)\n",
        "ax.axis('off')\n",
        "ax.set_aspect(.1)\n",
        "rows=['']\n",
        "# cols=[\"Método\", \"LogisticRegression\", \"RandomForestClassifier\", \"GaussianNB\", \"KNearest\", \"DecisionTreeClassifier\"]\n",
        "cols = [\"Modelos\", \"Score treino\", \"Teste\", \"Overfiting\"]\n",
        "resultados=[]\n",
        "\n",
        "\n",
        "classifers = {\n",
        "        \"LogisticRegression\" : LogisticRegression(max_iter = 10000),\n",
        "        \"RandomForestClassifier\" : RandomForestClassifier(random_state=42, class_weight='balanced'),\n",
        "        \"GaussianNB\": GaussianNB(),\n",
        "        \"KNearest\": KNeighborsClassifier(),\n",
        "        \"DecisionTreeClassifier\": DecisionTreeClassifier()\n",
        "    }\n",
        "\n",
        "# scoring = ['accuracy', 'recall', 'roc_auc']\n",
        "    \n",
        "for key ,clf in classifers.items():\n",
        "    overfiting = False  \n",
        "    clf.fit(X_test, y_test)\n",
        "    score = cross_val_score(  clf,\n",
        "                              X_train,\n",
        "                              y_train,\n",
        "                              cv=5,\n",
        "                              scoring='roc_auc'\n",
        "                            )\n",
        "    \n",
        "    score_test = cross_val_score(  clf,\n",
        "                              X_test,\n",
        "                              y_test,\n",
        "                              cv=5,\n",
        "                              scoring='roc_auc'\n",
        "                            )\n",
        "    \n",
        "    if (score_test.mean() < score.mean()):\n",
        "      overfiting = True\n",
        "      \n",
        "    \n",
        "    resultados.append([key, score.mean(), score_test.mean(), overfiting])\n",
        "\n",
        "\n",
        "table = ax.table(cellText=resultados, colLabels=cols, loc='upper center',cellLoc='center')\n",
        "table.auto_set_font_size(False)\n",
        "table.set_fontsize(16)\n",
        "table.scale(4, 25)\n",
        "    "
      ],
      "execution_count": 159,
      "outputs": [
        {
          "output_type": "display_data",
          "data": {
            "image/png": "[encoded data removed]",
            "text/plain": [
              "<Figure size 432x288 with 1 Axes>"
            ]
          },
          "metadata": {
            "tags": [],
            "needs_background": "light"
          }
        }
      ]
    },
    {
      "cell_type": "markdown",
      "metadata": {
        "id": "CoZms-e5WB7-"
      },
      "source": [
        "#### Modelo que obteve melhor score foi o Random Forest Classifier\n",
        "Optei por usar o modelo sem a técnica de reamostragem acima, pois deu overfitingt em todos os modelos"
      ]
    },
    {
      "cell_type": "markdown",
      "metadata": {
        "id": "W-1IiMP-PLh_"
      },
      "source": [
        "#### Encontrando os melhores parâmetros para o modelo que obteve melhor score"
      ]
    },
    {
      "cell_type": "code",
      "metadata": {
        "trusted": true,
        "id": "BJOGJtLJPLh_"
      },
      "source": [
        "def find_best_parameter(clf, parameter, X_train, y_train):\n",
        "    best_model = GridSearchCV(\n",
        "          clf,\n",
        "          parameter,\n",
        "          return_train_score=True\n",
        "        ).fit(X_train,y_train)\n",
        "    return best_model.best_estimator_"
      ],
      "execution_count": 161,
      "outputs": []
    },
    {
      "cell_type": "code",
      "metadata": {
        "trusted": true,
        "id": "ybJS2S2vPLh_",
        "colab": {
          "base_uri": "https://localhost:8080/"
        },
        "outputId": "5d7170d5-6c40-43f5-f8f4-274cb3162999"
      },
      "source": [
        "# Use GridSearchCV to find the best parameters.\n",
        "from sklearn.model_selection import GridSearchCV\n",
        "\n",
        "\n",
        "# Random Forest\n",
        "param_grid = { \n",
        "    'n_estimators': [1, 2, 3, 4, 5],\n",
        "    'max_features': ['auto', 'sqrt', 'log2'],\n",
        "    'max_depth' : [4,5, 7],\n",
        "    'criterion' :['gini', 'entropy']\n",
        "\n",
        "}\n",
        "log_random_forest = find_best_parameter(RandomForestClassifier(random_state=42, class_weight='balanced'), param_grid, X_train, y_train)\n",
        "\n",
        "classifers['RandomForestClassifier'] = log_random_forest\n",
        "\n",
        "classifers['RandomForestClassifier']\n"
      ],
      "execution_count": 162,
      "outputs": [
        {
          "output_type": "execute_result",
          "data": {
            "text/plain": [
              "RandomForestClassifier(bootstrap=True, ccp_alpha=0.0, class_weight='balanced',\n",
              "                       criterion='entropy', max_depth=5, max_features='auto',\n",
              "                       max_leaf_nodes=None, max_samples=None,\n",
              "                       min_impurity_decrease=0.0, min_impurity_split=None,\n",
              "                       min_samples_leaf=1, min_samples_split=2,\n",
              "                       min_weight_fraction_leaf=0.0, n_estimators=1,\n",
              "                       n_jobs=None, oob_score=False, random_state=42, verbose=0,\n",
              "                       warm_start=False)"
            ]
          },
          "metadata": {
            "tags": []
          },
          "execution_count": 162
        }
      ]
    },
    {
      "cell_type": "code",
      "metadata": {
        "colab": {
          "base_uri": "https://localhost:8080/"
        },
        "id": "udU8RnXJA60J",
        "outputId": "bf4b93fe-d501-4b23-dabf-3b7b47b9e452"
      },
      "source": [
        "random_forest_clf = RandomForestClassifier(bootstrap=True, ccp_alpha=0.0, class_weight='balanced',\n",
        "                       criterion='entropy', max_depth=5, max_features='auto',\n",
        "                       max_leaf_nodes=None, max_samples=None,\n",
        "                       min_impurity_decrease=0.0, min_impurity_split=None,\n",
        "                       min_samples_leaf=1, min_samples_split=2,\n",
        "                       min_weight_fraction_leaf=0.0, n_estimators=1,\n",
        "                       n_jobs=None, oob_score=False, random_state=42, verbose=0,\n",
        "                       warm_start=False)\n",
        "\n",
        "clf.fit(X_train, y_train)\n",
        "score = cross_val_score(  random_forest_clf,\n",
        "                          X_train,\n",
        "                          y_train,\n",
        "                          cv=5,\n",
        "                          scoring='roc_auc'\n",
        "                        )\n",
        "\n",
        "\n",
        "print('score ->', score.mean())\n"
      ],
      "execution_count": 163,
      "outputs": [
        {
          "output_type": "stream",
          "text": [
            "score -> 0.7793426001131547\n"
          ],
          "name": "stdout"
        }
      ]
    },
    {
      "cell_type": "markdown",
      "metadata": {
        "id": "-Hnabu1hGRrY"
      },
      "source": [
        "#### Com o GRIDSearch, o score ficou menor. Com isso seguirei com os parâmetros básicos."
      ]
    },
    {
      "cell_type": "code",
      "metadata": {
        "id": "kpSexSrSA63K"
      },
      "source": [
        "X_train, X_test, y_train, y_test"
      ],
      "execution_count": null,
      "outputs": []
    },
    {
      "cell_type": "code",
      "metadata": {
        "id": "CSYxQMwbPLh_"
      },
      "source": [
        "pipeline = make_pipeline(StandardScaler(), RandomForestClassifier(random_state=42, class_weight='balanced'))\n",
        "pipeline.fit(X_train,y_train)\n",
        "\n",
        "y_pred = pipeline.predict(X_test)\n",
        "\n",
        "# print('y_pred', y_pred)\n",
        "\n",
        "conf_matrix = confusion_matrix(y_true=y_test, y_pred=y_pred)"
      ],
      "execution_count": 173,
      "outputs": []
    },
    {
      "cell_type": "code",
      "metadata": {
        "id": "L3zjhm9zPLiA",
        "colab": {
          "base_uri": "https://localhost:8080/",
          "height": 501
        },
        "outputId": "da6ef8c3-db3d-4e15-e6ef-343a273a9d07"
      },
      "source": [
        "fig, ax = plt.subplots(figsize=(7.5, 7.5))\n",
        "ax.matshow(conf_matrix, cmap=plt.cm.Blues, alpha=0.3)\n",
        "for i in range(conf_matrix.shape[0]):\n",
        "    for j in range(conf_matrix.shape[1]):\n",
        "        ax.text(x=j, y=i,s=conf_matrix[i, j], va='center', ha='center', size='xx-large')\n",
        " \n",
        "plt.xlabel('Predictions', fontsize=18)\n",
        "plt.ylabel('Actuals', fontsize=18)\n",
        "plt.title('Confusion Matrix', fontsize=18)\n",
        "plt.show()"
      ],
      "execution_count": 174,
      "outputs": [
        {
          "output_type": "display_data",
          "data": {
            "image/png": "[encoded data removed]",
            "text/plain": [
              "<Figure size 540x540 with 1 Axes>"
            ]
          },
          "metadata": {
            "tags": [],
            "needs_background": "light"
          }
        }
      ]
    },
    {
      "cell_type": "markdown",
      "metadata": {
        "id": "OBkcUZflPLiA"
      },
      "source": [
        "Analisando os resultados"
      ]
    },
    {
      "cell_type": "code",
      "metadata": {
        "colab": {
          "base_uri": "https://localhost:8080/"
        },
        "id": "W0Xd0PVF6lyV",
        "outputId": "cd388bc3-7cf6-4c9a-a310-ec7923a114b1"
      },
      "source": [
        "from sklearn.metrics import classification_report\n",
        "target_names = ['class 0', 'class 1']\n",
        "print(classification_report(y_test, y_pred, target_names=target_names))"
      ],
      "execution_count": 175,
      "outputs": [
        {
          "output_type": "stream",
          "text": [
            "              precision    recall  f1-score   support\n",
            "\n",
            "     class 0       0.94      0.99      0.97      6999\n",
            "     class 1       0.54      0.16      0.25       501\n",
            "\n",
            "    accuracy                           0.93      7500\n",
            "   macro avg       0.74      0.58      0.61      7500\n",
            "weighted avg       0.92      0.93      0.92      7500\n",
            "\n"
          ],
          "name": "stdout"
        }
      ]
    },
    {
      "cell_type": "code",
      "metadata": {
        "colab": {
          "base_uri": "https://localhost:8080/",
          "height": 279
        },
        "id": "J3m22Bt26nPR",
        "outputId": "5e4e96ea-a523-4a49-d371-f8ffbaec663b"
      },
      "source": [
        "import matplotlib.pyplot as plt  \n",
        "from sklearn import datasets, metrics, model_selection, svm\n",
        "\n",
        "metrics.plot_roc_curve(pipeline, X_test, y_test) \n",
        "plt.show()                                "
      ],
      "execution_count": 176,
      "outputs": [
        {
          "output_type": "display_data",
          "data": {
            "image/png": "[encoded data removed]",
            "text/plain": [
              "<Figure size 432x288 with 1 Axes>"
            ]
          },
          "metadata": {
            "tags": [],
            "needs_background": "light"
          }
        }
      ]
    },
    {
      "cell_type": "markdown",
      "metadata": {
        "id": "gU1OzA618lLQ"
      },
      "source": [
        ""
      ]
    }
  ]
}